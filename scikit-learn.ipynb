{
 "cells": [
  {
   "cell_type": "code",
   "execution_count": 1,
   "metadata": {},
   "outputs": [
    {
     "data": {
      "text/html": [
       "<div>\n",
       "<style scoped>\n",
       "    .dataframe tbody tr th:only-of-type {\n",
       "        vertical-align: middle;\n",
       "    }\n",
       "\n",
       "    .dataframe tbody tr th {\n",
       "        vertical-align: top;\n",
       "    }\n",
       "\n",
       "    .dataframe thead th {\n",
       "        text-align: right;\n",
       "    }\n",
       "</style>\n",
       "<table border=\"1\" class=\"dataframe\">\n",
       "  <thead>\n",
       "    <tr style=\"text-align: right;\">\n",
       "      <th></th>\n",
       "      <th>A</th>\n",
       "      <th>B</th>\n",
       "      <th>C</th>\n",
       "    </tr>\n",
       "  </thead>\n",
       "  <tbody>\n",
       "    <tr>\n",
       "      <th>0</th>\n",
       "      <td>1.0</td>\n",
       "      <td>6.0</td>\n",
       "      <td>11</td>\n",
       "    </tr>\n",
       "    <tr>\n",
       "      <th>1</th>\n",
       "      <td>NaN</td>\n",
       "      <td>7.0</td>\n",
       "      <td>12</td>\n",
       "    </tr>\n",
       "    <tr>\n",
       "      <th>2</th>\n",
       "      <td>3.0</td>\n",
       "      <td>8.0</td>\n",
       "      <td>13</td>\n",
       "    </tr>\n",
       "    <tr>\n",
       "      <th>3</th>\n",
       "      <td>4.0</td>\n",
       "      <td>NaN</td>\n",
       "      <td>14</td>\n",
       "    </tr>\n",
       "    <tr>\n",
       "      <th>4</th>\n",
       "      <td>5.0</td>\n",
       "      <td>10.0</td>\n",
       "      <td>15</td>\n",
       "    </tr>\n",
       "  </tbody>\n",
       "</table>\n",
       "</div>"
      ],
      "text/plain": [
       "     A     B   C\n",
       "0  1.0   6.0  11\n",
       "1  NaN   7.0  12\n",
       "2  3.0   8.0  13\n",
       "3  4.0   NaN  14\n",
       "4  5.0  10.0  15"
      ]
     },
     "execution_count": 1,
     "metadata": {},
     "output_type": "execute_result"
    }
   ],
   "source": [
    "import numpy as np\n",
    "import pandas as pd\n",
    "\n",
    "df = pd.DataFrame({\n",
    "    'A':[1,np.nan,3,4,5],\n",
    "    'B':[6,7,8,np.nan,10],\n",
    "    'C':[11,12,13,14,15]\n",
    "})\n",
    "df"
   ]
  },
  {
   "cell_type": "code",
   "execution_count": 2,
   "metadata": {},
   "outputs": [
    {
     "data": {
      "text/html": [
       "<div>\n",
       "<style scoped>\n",
       "    .dataframe tbody tr th:only-of-type {\n",
       "        vertical-align: middle;\n",
       "    }\n",
       "\n",
       "    .dataframe tbody tr th {\n",
       "        vertical-align: top;\n",
       "    }\n",
       "\n",
       "    .dataframe thead th {\n",
       "        text-align: right;\n",
       "    }\n",
       "</style>\n",
       "<table border=\"1\" class=\"dataframe\">\n",
       "  <thead>\n",
       "    <tr style=\"text-align: right;\">\n",
       "      <th></th>\n",
       "      <th>A</th>\n",
       "      <th>B</th>\n",
       "      <th>C</th>\n",
       "    </tr>\n",
       "  </thead>\n",
       "  <tbody>\n",
       "    <tr>\n",
       "      <th>0</th>\n",
       "      <td>False</td>\n",
       "      <td>False</td>\n",
       "      <td>False</td>\n",
       "    </tr>\n",
       "    <tr>\n",
       "      <th>1</th>\n",
       "      <td>True</td>\n",
       "      <td>False</td>\n",
       "      <td>False</td>\n",
       "    </tr>\n",
       "    <tr>\n",
       "      <th>2</th>\n",
       "      <td>False</td>\n",
       "      <td>False</td>\n",
       "      <td>False</td>\n",
       "    </tr>\n",
       "    <tr>\n",
       "      <th>3</th>\n",
       "      <td>False</td>\n",
       "      <td>True</td>\n",
       "      <td>False</td>\n",
       "    </tr>\n",
       "    <tr>\n",
       "      <th>4</th>\n",
       "      <td>False</td>\n",
       "      <td>False</td>\n",
       "      <td>False</td>\n",
       "    </tr>\n",
       "  </tbody>\n",
       "</table>\n",
       "</div>"
      ],
      "text/plain": [
       "       A      B      C\n",
       "0  False  False  False\n",
       "1   True  False  False\n",
       "2  False  False  False\n",
       "3  False   True  False\n",
       "4  False  False  False"
      ]
     },
     "execution_count": 2,
     "metadata": {},
     "output_type": "execute_result"
    }
   ],
   "source": [
    "df.isnull()"
   ]
  },
  {
   "cell_type": "code",
   "execution_count": 3,
   "metadata": {},
   "outputs": [
    {
     "data": {
      "text/html": [
       "<div>\n",
       "<style scoped>\n",
       "    .dataframe tbody tr th:only-of-type {\n",
       "        vertical-align: middle;\n",
       "    }\n",
       "\n",
       "    .dataframe tbody tr th {\n",
       "        vertical-align: top;\n",
       "    }\n",
       "\n",
       "    .dataframe thead th {\n",
       "        text-align: right;\n",
       "    }\n",
       "</style>\n",
       "<table border=\"1\" class=\"dataframe\">\n",
       "  <thead>\n",
       "    <tr style=\"text-align: right;\">\n",
       "      <th></th>\n",
       "      <th>A</th>\n",
       "      <th>B</th>\n",
       "      <th>C</th>\n",
       "    </tr>\n",
       "  </thead>\n",
       "  <tbody>\n",
       "    <tr>\n",
       "      <th>0</th>\n",
       "      <td>1.0</td>\n",
       "      <td>6.0</td>\n",
       "      <td>11</td>\n",
       "    </tr>\n",
       "    <tr>\n",
       "      <th>2</th>\n",
       "      <td>3.0</td>\n",
       "      <td>8.0</td>\n",
       "      <td>13</td>\n",
       "    </tr>\n",
       "    <tr>\n",
       "      <th>4</th>\n",
       "      <td>5.0</td>\n",
       "      <td>10.0</td>\n",
       "      <td>15</td>\n",
       "    </tr>\n",
       "  </tbody>\n",
       "</table>\n",
       "</div>"
      ],
      "text/plain": [
       "     A     B   C\n",
       "0  1.0   6.0  11\n",
       "2  3.0   8.0  13\n",
       "4  5.0  10.0  15"
      ]
     },
     "execution_count": 3,
     "metadata": {},
     "output_type": "execute_result"
    }
   ],
   "source": [
    "df.dropna()"
   ]
  },
  {
   "cell_type": "code",
   "execution_count": 4,
   "metadata": {},
   "outputs": [
    {
     "data": {
      "text/html": [
       "<div>\n",
       "<style scoped>\n",
       "    .dataframe tbody tr th:only-of-type {\n",
       "        vertical-align: middle;\n",
       "    }\n",
       "\n",
       "    .dataframe tbody tr th {\n",
       "        vertical-align: top;\n",
       "    }\n",
       "\n",
       "    .dataframe thead th {\n",
       "        text-align: right;\n",
       "    }\n",
       "</style>\n",
       "<table border=\"1\" class=\"dataframe\">\n",
       "  <thead>\n",
       "    <tr style=\"text-align: right;\">\n",
       "      <th></th>\n",
       "      <th>A</th>\n",
       "      <th>B</th>\n",
       "      <th>C</th>\n",
       "    </tr>\n",
       "  </thead>\n",
       "  <tbody>\n",
       "    <tr>\n",
       "      <th>0</th>\n",
       "      <td>1.0</td>\n",
       "      <td>6.0</td>\n",
       "      <td>11</td>\n",
       "    </tr>\n",
       "    <tr>\n",
       "      <th>1</th>\n",
       "      <td>NaN</td>\n",
       "      <td>7.0</td>\n",
       "      <td>12</td>\n",
       "    </tr>\n",
       "    <tr>\n",
       "      <th>2</th>\n",
       "      <td>3.0</td>\n",
       "      <td>8.0</td>\n",
       "      <td>13</td>\n",
       "    </tr>\n",
       "    <tr>\n",
       "      <th>3</th>\n",
       "      <td>4.0</td>\n",
       "      <td>NaN</td>\n",
       "      <td>14</td>\n",
       "    </tr>\n",
       "    <tr>\n",
       "      <th>4</th>\n",
       "      <td>5.0</td>\n",
       "      <td>10.0</td>\n",
       "      <td>15</td>\n",
       "    </tr>\n",
       "  </tbody>\n",
       "</table>\n",
       "</div>"
      ],
      "text/plain": [
       "     A     B   C\n",
       "0  1.0   6.0  11\n",
       "1  NaN   7.0  12\n",
       "2  3.0   8.0  13\n",
       "3  4.0   NaN  14\n",
       "4  5.0  10.0  15"
      ]
     },
     "execution_count": 4,
     "metadata": {},
     "output_type": "execute_result"
    }
   ],
   "source": [
    "df"
   ]
  },
  {
   "cell_type": "code",
   "execution_count": 5,
   "metadata": {},
   "outputs": [
    {
     "ename": "SyntaxError",
     "evalue": "invalid syntax (<ipython-input-5-d60583e689a8>, line 5)",
     "output_type": "error",
     "traceback": [
      "\u001b[1;36m  File \u001b[1;32m\"<ipython-input-5-d60583e689a8>\"\u001b[1;36m, line \u001b[1;32m5\u001b[0m\n\u001b[1;33m    import(strategy='mean',a\u001b[0m\n\u001b[1;37m          ^\u001b[0m\n\u001b[1;31mSyntaxError\u001b[0m\u001b[1;31m:\u001b[0m invalid syntax\n"
     ]
    }
   ],
   "source": [
    "#from sklearn.preprocessing import Imputer\n",
    "import sklearn as sl\n",
    "#import Imputer as imp\n",
    "imp = sl.preprocessing.i\n",
    "import(strategy='mean',a\n",
    "       xis=0)\n",
    "\n",
    "imp.fit(df)\n",
    "imp.transform(df)"
   ]
  },
  {
   "cell_type": "code",
   "execution_count": null,
   "metadata": {},
   "outputs": [],
   "source": [
    "df = pd.DataFrame({\n",
    "    'A':[1,2,3,4,5],\n",
    "    'B':['a','b','a','b','c']\n",
    "})\n",
    "df"
   ]
  },
  {
   "cell_type": "code",
   "execution_count": null,
   "metadata": {},
   "outputs": [],
   "source": [
    "from sklearn.preprocessing import LabelEncoder\n",
    "\n",
    "le = LabelEncoder()\n",
    "le.fit(df['B'])\n",
    "le.transform(df['B'])"
   ]
  },
  {
   "cell_type": "code",
   "execution_count": null,
   "metadata": {},
   "outputs": [],
   "source": [
    "le.classes_"
   ]
  },
  {
   "cell_type": "code",
   "execution_count": null,
   "metadata": {},
   "outputs": [],
   "source": [
    "from sklearn.preprocessing import LabelEncoder, OneHotEncoder\n",
    "\n",
    "df_ohe = df.copy()\n",
    "\n",
    "le = LabelEncoder()\n",
    "df_ohe['B'] = le.fit_transform(df_ohe['B'])\n",
    "ohe = OneHotEncoder()\n",
    "ohe.fit_transform(df_ohe).toarray()"
   ]
  },
  {
   "cell_type": "code",
   "execution_count": null,
   "metadata": {},
   "outputs": [],
   "source": [
    "df = pd.DataFrame({\n",
    "    'A':[1,2,3,4,5],\n",
    "    'B':[100,200,400,500,800]\n",
    "})\n",
    "df"
   ]
  },
  {
   "cell_type": "code",
   "execution_count": null,
   "metadata": {},
   "outputs": [],
   "source": [
    "from sklearn.preprocessing import StandardScaler\n",
    "\n",
    "stdsc = StandardScaler()\n",
    "stdsc.fit(df)\n",
    "stdsc.transform(df)"
   ]
  },
  {
   "cell_type": "code",
   "execution_count": null,
   "metadata": {},
   "outputs": [],
   "source": [
    "from sklearn.preprocessing import MinMaxScaler\n",
    "mmsc = MinMaxScaler()\n",
    "mmsc.fit(df)\n",
    "mmsc.transform(df)"
   ]
  },
  {
   "cell_type": "code",
   "execution_count": null,
   "metadata": {},
   "outputs": [],
   "source": [
    "from sklearn.datasets import load_iris\n",
    "\n",
    "iris = load_iris()\n",
    "X,y = iris.data, iris.target\n",
    "print('X:')\n",
    "print(X[:5,:])\n",
    "print('y:')\n",
    "print(y[:5])"
   ]
  },
  {
   "cell_type": "code",
   "execution_count": null,
   "metadata": {},
   "outputs": [],
   "source": [
    "from sklearn.model_selection import train_test_split\n",
    "\n",
    "X_train, X_test, y_train, y_test = train_test_split(X,y, test_size=0.3, random_state=123)\n",
    "print(X_train.shape)\n",
    "print(X_test.shape)\n",
    "print(y_train.shape)\n",
    "print(y_test.shape)\n"
   ]
  },
  {
   "cell_type": "code",
   "execution_count": 7,
   "metadata": {},
   "outputs": [
    {
     "data": {
      "image/png": "[encoded data removed]",
      "text/plain": [
       "<Figure size 432x288 with 1 Axes>"
      ]
     },
     "metadata": {
      "needs_background": "light"
     },
     "output_type": "display_data"
    }
   ],
   "source": [
    "import numpy as np\n",
    "import matplotlib.pyplot as plt\n",
    "np.random.seed(123)\n",
    "X0 = np.random.uniform(size=(100,2))\n",
    "y0 = np.repeat(0,100)\n",
    "X1 = np.random.uniform(-1.0, 0.0, size=(100,2))\n",
    "y1 = np.repeat(1,100)\n",
    "fig, ax = plt.subplots()\n",
    "ax.scatter(X0[:,0], X0[:,1], marker='o', label='class 0')\n",
    "ax.scatter(X1[:,0], X1[:,1], marker='x', label='class 1')\n",
    "ax.set_xlabel('x')\n",
    "ax.set_ylabel('y')\n",
    "ax.legend()\n",
    "plt.show()"
   ]
  },
  {
   "cell_type": "code",
   "execution_count": null,
   "metadata": {},
   "outputs": [],
   "source": [
    "from sklearn.svm import SVC\n",
    "\n",
    "def plot_boundary_margin_sv(X0,y0,X1,y1,kernel,C,xmin=-1,xmax=1, ymin=-1,ymax=1):\n",
    "    svc = SVC(kernel=kernel, C=C)\n",
    "    svc.fit(np.vstack((X0,X1)), np.hstack((y0,y1)))\n",
    "    \n",
    "    fig, ax = plt.subplots()\n",
    "    ax.scatter(X0[:,0], X0[:,1], marker='o', label='class 0')\n",
    "    ax.scatter(X1[:,0], X1[:,1], marker='x', label='class 1')\n",
    "    \n",
    "    xx, yy = np.meshgrid(np.linspace(xmin,xmax,100),np.linspace(ymin, ymax, 100))\n",
    "    xy = np.vstack([xx.ravel(), yy.ravel()]).T\n",
    "    p = svc.decision_function(xy).reshape((100,100))\n",
    "    ax.contour(xx, yy, p, colors='k', levels=[-1,0,1], alpha=0.5, linestyles=['--','-','--'])\n",
    "    ax.scatter(svc.support_vectors_[:,0],\n",
    "              svc.support_vectors_[:,1],\n",
    "              s=250, facecolors='none',\n",
    "              edgecolors='black')\n",
    "    ax.set_xlabel('x')\n",
    "    ax.set_ylabel('y')\n",
    "    ax.legend(loc='best')\n",
    "    plt.show()"
   ]
  },
  {
   "cell_type": "code",
   "execution_count": null,
   "metadata": {},
   "outputs": [],
   "source": [
    "plot_boundary_margin_sv(X0,y0,X1,y1,kernel='linear', C=1e6)"
   ]
  },
  {
   "cell_type": "code",
   "execution_count": null,
   "metadata": {},
   "outputs": [],
   "source": [
    "plot_boundary_margin_sv(X0,y0,X1,y1,kernel='linear', C=0.1)"
   ]
  },
  {
   "cell_type": "code",
   "execution_count": 16,
   "metadata": {},
   "outputs": [
    {
     "data": {
      "text/plain": [
       "array([[0.69646919, 0.28613933],\n",
       "       [0.22685145, 0.55131477],\n",
       "       [0.71946897, 0.42310646],\n",
       "       [0.9807642 , 0.68482974],\n",
       "       [0.4809319 , 0.39211752],\n",
       "       [0.34317802, 0.72904971],\n",
       "       [0.43857224, 0.0596779 ],\n",
       "       [0.39804426, 0.73799541],\n",
       "       [0.18249173, 0.17545176],\n",
       "       [0.53155137, 0.53182759],\n",
       "       [0.63440096, 0.84943179],\n",
       "       [0.72445532, 0.61102351],\n",
       "       [0.72244338, 0.32295891],\n",
       "       [0.36178866, 0.22826323],\n",
       "       [0.29371405, 0.63097612],\n",
       "       [0.09210494, 0.43370117],\n",
       "       [0.43086276, 0.4936851 ],\n",
       "       [0.42583029, 0.31226122],\n",
       "       [0.42635131, 0.89338916],\n",
       "       [0.94416002, 0.50183668],\n",
       "       [0.62395295, 0.1156184 ],\n",
       "       [0.31728548, 0.41482621],\n",
       "       [0.86630916, 0.25045537],\n",
       "       [0.48303426, 0.98555979],\n",
       "       [0.51948512, 0.61289453],\n",
       "       [0.12062867, 0.8263408 ],\n",
       "       [0.60306013, 0.54506801],\n",
       "       [0.34276383, 0.30412079],\n",
       "       [0.41702221, 0.68130077],\n",
       "       [0.87545684, 0.51042234],\n",
       "       [0.66931378, 0.58593655],\n",
       "       [0.6249035 , 0.67468905],\n",
       "       [0.84234244, 0.08319499],\n",
       "       [0.76368284, 0.24366637],\n",
       "       [0.19422296, 0.57245696],\n",
       "       [0.09571252, 0.88532683],\n",
       "       [0.62724897, 0.72341636],\n",
       "       [0.01612921, 0.59443188],\n",
       "       [0.55678519, 0.15895964],\n",
       "       [0.15307052, 0.69552953],\n",
       "       [0.31876643, 0.6919703 ],\n",
       "       [0.55438325, 0.38895057],\n",
       "       [0.92513249, 0.84167   ],\n",
       "       [0.35739757, 0.04359146],\n",
       "       [0.30476807, 0.39818568],\n",
       "       [0.70495883, 0.99535848],\n",
       "       [0.35591487, 0.76254781],\n",
       "       [0.59317692, 0.6917018 ],\n",
       "       [0.15112745, 0.39887629],\n",
       "       [0.2408559 , 0.34345601],\n",
       "       [0.51312815, 0.66662455],\n",
       "       [0.10590849, 0.13089495],\n",
       "       [0.32198061, 0.66156434],\n",
       "       [0.84650623, 0.55325734],\n",
       "       [0.85445249, 0.38483781],\n",
       "       [0.3167879 , 0.35426468],\n",
       "       [0.17108183, 0.82911263],\n",
       "       [0.33867085, 0.55237008],\n",
       "       [0.57855147, 0.52153306],\n",
       "       [0.00268806, 0.98834542],\n",
       "       [0.90534158, 0.20763586],\n",
       "       [0.29248941, 0.52001015],\n",
       "       [0.90191137, 0.98363088],\n",
       "       [0.25754206, 0.56435904],\n",
       "       [0.80696868, 0.39437005],\n",
       "       [0.73107304, 0.16106901],\n",
       "       [0.60069857, 0.86586446],\n",
       "       [0.98352161, 0.07936579],\n",
       "       [0.42834727, 0.20454286],\n",
       "       [0.45063649, 0.54776357],\n",
       "       [0.09332671, 0.29686078],\n",
       "       [0.92758424, 0.56900373],\n",
       "       [0.457412  , 0.75352599],\n",
       "       [0.74186215, 0.04857903],\n",
       "       [0.7086974 , 0.83924335],\n",
       "       [0.16593788, 0.78099794],\n",
       "       [0.28653662, 0.30646975],\n",
       "       [0.66526147, 0.11139217],\n",
       "       [0.66487245, 0.88785679],\n",
       "       [0.69631127, 0.44032788],\n",
       "       [0.43821438, 0.7650961 ],\n",
       "       [0.565642  , 0.08490416],\n",
       "       [0.58267109, 0.8148437 ],\n",
       "       [0.33706638, 0.92757658],\n",
       "       [0.750717  , 0.57406383],\n",
       "       [0.75164399, 0.07914896],\n",
       "       [0.85938908, 0.82150411],\n",
       "       [0.90987166, 0.1286312 ],\n",
       "       [0.08178009, 0.13841557],\n",
       "       [0.39937871, 0.42430686],\n",
       "       [0.56221838, 0.12224355],\n",
       "       [0.2013995 , 0.81164435],\n",
       "       [0.46798757, 0.80793821],\n",
       "       [0.00742638, 0.55159273],\n",
       "       [0.93193215, 0.58217546],\n",
       "       [0.20609573, 0.71775756],\n",
       "       [0.37898585, 0.66838395],\n",
       "       [0.02931972, 0.63590036],\n",
       "       [0.03219793, 0.74478066],\n",
       "       [0.472913  , 0.12175436]])"
      ]
     },
     "execution_count": 16,
     "metadata": {},
     "output_type": "execute_result"
    }
   ],
   "source": [
    "np.random.seed(123)\n",
    "X = np.random.random(size=(100,2))\n",
    "y = (X[:,1] > 2*(X[:,0]-0.5)**2 + 0.5)\n",
    "#.astype(int)\n",
    "X\n",
    "#y\n",
    "#x\n",
    "#x[:,0]\n",
    "#fig, ax = plt.subplots()\n",
    "#ax.scatter(X[y == 0,0], X[y==0,1], marker='x', label='class 0')\n",
    "#ax.scatter(X[y == 1,0], X[y==1,1], marker='o', label='class 1')\n",
    "#ax.legend()\n",
    "#plt.show()\n"
   ]
  },
  {
   "cell_type": "code",
   "execution_count": null,
   "metadata": {},
   "outputs": [],
   "source": [
    "X0,X1 = X[y==0,:], X[y==1,:]\n",
    "y0,y1 = y[y==0], y[y==1]\n",
    "plot_boundary_margin_sv(X0,y0,X1,y1, kernel='rbf', C=1e3, xmin=0, ymin=0)"
   ]
  },
  {
   "cell_type": "code",
   "execution_count": null,
   "metadata": {},
   "outputs": [],
   "source": [
    "from sklearn.datasets import load_iris\n",
    "from sklearn.model_selection import train_test_split\n",
    "from sklearn.tree import DecisionTreeClassifier\n",
    "iris = load_iris()\n",
    "X,y = iris.data, iris.target\n",
    "\n",
    "X_train, X_test, y_train, y_test = train_test_split(X,y, test_size=0.3, random_state=123)\n",
    "tree = DecisionTreeClassifier(max_depth=3)\n",
    "tree.fit(X_train,y_train)"
   ]
  },
  {
   "cell_type": "code",
   "execution_count": null,
   "metadata": {},
   "outputs": [],
   "source": [
    "%pip install pydotplus"
   ]
  },
  {
   "cell_type": "code",
   "execution_count": null,
   "metadata": {},
   "outputs": [],
   "source": [
    "from pydotplus import graph_from_dot_data\n",
    "from sklearn.tree import export_graphviz\n",
    "dot_data = export_graphviz(tree, filled=True,rounded=True,class_names=['Setosa','Versicolor','Virginica'],feature_names=['Sepal Length',\n",
    "                                                                                                                         'Sepal Width',\n",
    "                                                                                                                        'Petal Length',\n",
    "                                                                                                                        'Petal Width'],\n",
    "                          out_file=None)\n",
    "graph = graph_from_dot_data(dot_data)\n",
    "graph.write('tree.png')"
   ]
  },
  {
   "cell_type": "code",
   "execution_count": null,
   "metadata": {},
   "outputs": [],
   "source": [
    "y_pred = tree.predict(X_test)\n",
    "y_pred"
   ]
  },
  {
   "cell_type": "code",
   "execution_count": null,
   "metadata": {},
   "outputs": [],
   "source": [
    "from sklearn.ensemble import RandomForestClassifier\n",
    "forest = RandomForestClassifier(n_estimators=100,random_state=123)\n",
    "\n",
    "forest.fit(X_train, y_train)\n",
    "y_pred= forest.predict(X_test)\n",
    "y_pred"
   ]
  },
  {
   "cell_type": "code",
   "execution_count": null,
   "metadata": {},
   "outputs": [],
   "source": [
    "import numpy as np\n",
    "import matplotlib.pyplot as plt\n",
    "np.random.seed(123)\n",
    "X0 = np.random.uniform(size=(100,2))\n",
    "#y0 = np.repeat(0,100)\n",
    "X1 = np.random.uniform(-1.0, 0.0, size=(100,2))\n",
    "#y1 = np.repeat(1,100)\n",
    "fig, ax = plt.subplots()\n",
    "X0\n",
    "X0[:,0]\n"
   ]
  },
  {
   "cell_type": "code",
   "execution_count": null,
   "metadata": {},
   "outputs": [],
   "source": []
  }
 ],
 "metadata": {
  "kernelspec": {
   "display_name": "Python 3",
   "language": "python",
   "name": "python3"
  },
  "language_info": {
   "codemirror_mode": {
    "name": "ipython",
    "version": 3
   },
   "file_extension": ".py",
   "mimetype": "text/x-python",
   "name": "python",
   "nbconvert_exporter": "python",
   "pygments_lexer": "ipython3",
   "version": "3.8.3"
  }
 },
 "nbformat": 4,
 "nbformat_minor": 4
}
